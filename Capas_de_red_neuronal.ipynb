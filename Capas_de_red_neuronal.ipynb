{
  "nbformat": 4,
  "nbformat_minor": 0,
  "metadata": {
    "colab": {
      "name": "Capas de red neuronal.ipynb",
      "provenance": [],
      "authorship_tag": "ABX9TyPialES0YaLCjVzw1Jz1/dt",
      "include_colab_link": true
    },
    "kernelspec": {
      "name": "python3",
      "display_name": "Python 3"
    },
    "language_info": {
      "name": "python"
    },
    "accelerator": "GPU"
  },
  "cells": [
    {
      "cell_type": "markdown",
      "metadata": {
        "id": "view-in-github",
        "colab_type": "text"
      },
      "source": [
        "<a href=\"https://colab.research.google.com/github/Saulrega/pytorch/blob/main/Capas_de_red_neuronal.ipynb\" target=\"_parent\"><img src=\"https://colab.research.google.com/assets/colab-badge.svg\" alt=\"Open In Colab\"/></a>"
      ]
    },
    {
      "cell_type": "code",
      "execution_count": null,
      "metadata": {
        "id": "HA8liSqjDrTG"
      },
      "outputs": [],
      "source": [
        "import torch\n",
        "import torch.nn as nn\n",
        "\n",
        "linear = nn.Linear(in_features=4096,out_features=10)\n",
        "conv = nn.Conv2d(in_channels=3, out_channels=9, kernel_size=3, stride=1, padding=1)\n",
        "relu = nn.ReLU(False)"
      ]
    },
    {
      "cell_type": "code",
      "source": [
        "x = torch.rand(4096)\n",
        "y = linear(x)\n",
        "y.size()"
      ],
      "metadata": {
        "colab": {
          "base_uri": "https://localhost:8080/"
        },
        "id": "3nIk9oirF1K5",
        "outputId": "8a3584c1-76d7-4dec-d9de-f4a07c06c18a"
      },
      "execution_count": null,
      "outputs": [
        {
          "output_type": "execute_result",
          "data": {
            "text/plain": [
              "torch.Size([10])"
            ]
          },
          "metadata": {},
          "execution_count": 7
        }
      ]
    },
    {
      "cell_type": "code",
      "source": [
        "x = torch.randn(1,3,7,7)\n",
        "y = conv(x)\n",
        "z = relu(x)"
      ],
      "metadata": {
        "id": "OUOaHix3F1Nf"
      },
      "execution_count": null,
      "outputs": []
    },
    {
      "cell_type": "code",
      "source": [
        "y.size()"
      ],
      "metadata": {
        "colab": {
          "base_uri": "https://localhost:8080/"
        },
        "id": "o9Ia6gx2F1RV",
        "outputId": "43a3e887-fe5c-4f96-e63a-f9d5d243e709"
      },
      "execution_count": null,
      "outputs": [
        {
          "output_type": "execute_result",
          "data": {
            "text/plain": [
              "torch.Size([1, 9, 7, 7])"
            ]
          },
          "metadata": {},
          "execution_count": 9
        }
      ]
    },
    {
      "cell_type": "code",
      "source": [
        "z.size()"
      ],
      "metadata": {
        "colab": {
          "base_uri": "https://localhost:8080/"
        },
        "id": "HnkFSrv2F1Ti",
        "outputId": "f44a3eb6-9e19-4f96-a00d-98352069c996"
      },
      "execution_count": null,
      "outputs": [
        {
          "output_type": "execute_result",
          "data": {
            "text/plain": [
              "torch.Size([1, 3, 7, 7])"
            ]
          },
          "metadata": {},
          "execution_count": 10
        }
      ]
    },
    {
      "cell_type": "code",
      "source": [
        "for name, p in linear.named_parameters():\n",
        "  print(name)\n",
        "  print(p)"
      ],
      "metadata": {
        "colab": {
          "base_uri": "https://localhost:8080/"
        },
        "id": "9KdUN9QmF1W3",
        "outputId": "e27dca98-b831-437a-fc3f-9916611ca80c"
      },
      "execution_count": null,
      "outputs": [
        {
          "output_type": "stream",
          "name": "stdout",
          "text": [
            "weight\n",
            "Parameter containing:\n",
            "tensor([[ 3.0979e-03,  9.1040e-03, -1.0696e-02,  ...,  1.0548e-02,\n",
            "         -1.4214e-03,  5.2786e-03],\n",
            "        [-2.2033e-03, -1.4736e-02,  2.7221e-03,  ...,  4.7471e-03,\n",
            "         -8.6922e-03,  1.3609e-02],\n",
            "        [ 9.1141e-04, -1.2858e-02, -7.5258e-05,  ..., -1.3335e-02,\n",
            "         -1.1871e-02,  1.4869e-02],\n",
            "        ...,\n",
            "        [ 1.1500e-02,  5.8098e-03,  1.1032e-02,  ...,  9.9825e-04,\n",
            "         -1.2344e-02, -1.3425e-02],\n",
            "        [-1.9461e-03, -1.1758e-02,  1.2232e-02,  ..., -1.4667e-02,\n",
            "         -1.1622e-02, -1.0121e-02],\n",
            "        [-1.1972e-02,  4.6848e-03,  4.2916e-03,  ..., -1.5428e-02,\n",
            "         -1.5073e-02, -3.2960e-03]], requires_grad=True)\n",
            "bias\n",
            "Parameter containing:\n",
            "tensor([ 0.0071,  0.0029, -0.0055, -0.0105,  0.0083, -0.0008,  0.0026,  0.0062,\n",
            "        -0.0070, -0.0042], requires_grad=True)\n"
          ]
        }
      ]
    },
    {
      "cell_type": "code",
      "source": [
        ""
      ],
      "metadata": {
        "id": "pOM8iMg5F1Zh"
      },
      "execution_count": null,
      "outputs": []
    },
    {
      "cell_type": "code",
      "source": [
        ""
      ],
      "metadata": {
        "id": "lL4IP3QtF1by"
      },
      "execution_count": null,
      "outputs": []
    },
    {
      "cell_type": "code",
      "source": [
        ""
      ],
      "metadata": {
        "id": "RVtijPqFF1eA"
      },
      "execution_count": null,
      "outputs": []
    }
  ]
}